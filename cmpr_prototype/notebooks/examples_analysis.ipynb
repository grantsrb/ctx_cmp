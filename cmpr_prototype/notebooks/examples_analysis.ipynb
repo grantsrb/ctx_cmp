{
 "cells": [
  {
   "cell_type": "code",
   "execution_count": 68,
   "id": "4fa9a0f8-95f1-4db3-a518-1a861e076e6f",
   "metadata": {},
   "outputs": [],
   "source": [
    "import numpy as np\n",
    "import pandas as pd\n",
    "import torch\n",
    "import sys\n",
    "sys.path.insert(1, \"../\")\n",
    "import ml_utils.save_io as io\n",
    "import os\n",
    "import matplotlib.pyplot as plt\n",
    "import seaborn as sns\n",
    "\n",
    "#import matplotlib\n",
    "#font = {'family' : 'normal',\n",
    "#        'weight' : 'bold',\n",
    "#        'size'   : 40}\n",
    "#matplotlib.rc('font', **font)\n",
    "\n",
    "\n",
    "pd.set_option('display.max_rows', 500)\n",
    "pd.set_option('display.max_columns', 500)\n",
    "pd.set_option('display.width', 1000)"
   ]
  },
  {
   "cell_type": "code",
   "execution_count": 69,
   "id": "74522c48-b7c5-4263-a282-0b2ebe3398be",
   "metadata": {},
   "outputs": [
    {
     "name": "stdout",
     "output_type": "stream",
     "text": [
      "0 /data2/pdp/grantsrb/sa_saves/gpt2proj_blog\n",
      "1 /data2/pdp/grantsrb/sa_saves/bloom560_proj\n",
      "2 /data2/pdp/grantsrb/sa_saves/scaling\n",
      "3 /data2/pdp/grantsrb/sa_saves/test\n",
      "4 /data2/pdp/grantsrb/sa_saves/bloom560nnproj\n",
      "5 /data2/pdp/grantsrb/sa_saves/trsearch_bloom560m\n"
     ]
    }
   ],
   "source": [
    "root_paths = [\n",
    "    \"/data2/pdp/grantsrb/sa_saves/\",\n",
    "]\n",
    "exp_folders = []\n",
    "for root_path in root_paths:\n",
    "    for i,exp_folder in enumerate(os.listdir(root_path)):\n",
    "        exp_folders.append(os.path.join(root_path, exp_folder))\n",
    "        print(i,exp_folders[-1])"
   ]
  },
  {
   "cell_type": "code",
   "execution_count": 90,
   "id": "226bc0f4-3b93-499a-8daf-64318b6a20d8",
   "metadata": {},
   "outputs": [],
   "source": [
    "idxs = [ 1 ]"
   ]
  },
  {
   "cell_type": "code",
   "execution_count": 91,
   "id": "d12bc5cf-1b8e-4835-97b3-6033b1b8bd97",
   "metadata": {},
   "outputs": [
    {
     "name": "stdout",
     "output_type": "stream",
     "text": [
      "0 /data2/pdp/grantsrb/sa_saves/bloom560_proj/bloom560_proj_1_proj_cmprTrue\n"
     ]
    }
   ],
   "source": [
    "model_folders = []\n",
    "for idx in idxs:\n",
    "    exp_folder = exp_folders[idx]\n",
    "    new_folders = io.get_model_folders(exp_folder, incl_full_path=True)\n",
    "    model_folders = model_folders + new_folders\n",
    "for i,folder in enumerate(model_folders):\n",
    "    print(i,folder)"
   ]
  },
  {
   "cell_type": "code",
   "execution_count": 92,
   "id": "5279a723-6636-475e-8d67-ea8278ab7144",
   "metadata": {},
   "outputs": [],
   "source": [
    "idxs = [i for i in range(len(model_folders))]"
   ]
  },
  {
   "cell_type": "code",
   "execution_count": 93,
   "id": "7ef962e6-75c9-4ff9-8251-dcb365ae9ccb",
   "metadata": {},
   "outputs": [
    {
     "data": {
      "text/plain": [
       "['/data2/pdp/grantsrb/sa_saves/bloom560_proj/bloom560_proj_1_proj_cmprTrue']"
      ]
     },
     "execution_count": 93,
     "metadata": {},
     "output_type": "execute_result"
    }
   ],
   "source": [
    "model_folders = [model_folders[i] for i in idxs]\n",
    "model_folders"
   ]
  },
  {
   "cell_type": "code",
   "execution_count": null,
   "id": "2b3fe3f1-7c6e-402e-b985-ed3ab49a007c",
   "metadata": {},
   "outputs": [],
   "source": []
  },
  {
   "cell_type": "markdown",
   "id": "421f844f-20ae-4d51-994c-002c80ccd61f",
   "metadata": {},
   "source": [
    "## Load Data"
   ]
  },
  {
   "cell_type": "code",
   "execution_count": 94,
   "id": "f4e99af0-6fd9-46fb-ab18-bfebfa04de04",
   "metadata": {},
   "outputs": [],
   "source": [
    "def load_examples(model_folder):\n",
    "    examples = []\n",
    "    checkpts = io.get_checkpoints(model_folder)\n",
    "    if len(checkpts)==0: return None\n",
    "    for checkpt in checkpts:\n",
    "        data = io.load_checkpoint(checkpt)\n",
    "        if \"state_dict\" in data: del data[\"state_dict\"]\n",
    "        if \"optim_dict\" in data: del data[\"optim_dict\"]\n",
    "        examples.append({\"hyps\": data[\"hyps\"], \"epoch\": data[\"epoch\"], \"examples\": data[\"examples\"]})\n",
    "    return examples"
   ]
  },
  {
   "cell_type": "code",
   "execution_count": 95,
   "id": "b74ab88a-7c8d-4f1c-a3cd-98a33bbbb1f3",
   "metadata": {},
   "outputs": [
    {
     "data": {
      "text/plain": [
       "0"
      ]
     },
     "execution_count": 95,
     "metadata": {},
     "output_type": "execute_result"
    }
   ],
   "source": [
    "examples = []\n",
    "for model_folder in model_folders:\n",
    "    ex = load_examples(model_folder)\n",
    "    examples.append(ex)\n",
    "examples[0][0][\"epoch\"]"
   ]
  },
  {
   "cell_type": "code",
   "execution_count": 96,
   "id": "b3b6e176-36f4-4bd4-8a34-042b01c51c33",
   "metadata": {},
   "outputs": [],
   "source": [
    "examples = examples[0]"
   ]
  },
  {
   "cell_type": "code",
   "execution_count": 97,
   "id": "af6a5a27-2311-4877-834d-12cc5e552745",
   "metadata": {},
   "outputs": [
    {
     "data": {
      "text/plain": [
       "29"
      ]
     },
     "execution_count": 97,
     "metadata": {},
     "output_type": "execute_result"
    }
   ],
   "source": [
    "examples[-1][\"epoch\"]"
   ]
  },
  {
   "cell_type": "code",
   "execution_count": 98,
   "id": "5f5f60dc-3310-409d-a4fd-2b3f650fe85e",
   "metadata": {},
   "outputs": [
    {
     "name": "stdout",
     "output_type": "stream",
     "text": [
      "Sample: 0\n",
      "ctx: Tigers add new addition for 2018\\n\\nPost\n",
      "targ: ed: Saturday 23rd September 2017 - 8:06 AM\\n\\nCastleford Tigers can confirm the signing of\n",
      "low:  Saturday 23 October 1987</s>Hoje no The Sportsmail Enoteca esta em consells de Barcelona FC Barcelona\n",
      "preds: ers the Prev-qualified,,,., Cheng Cheng, Chengiu, Chengan, and\n",
      "high: fielder Turin to new obstacles and galitsa club Newcastle Dijk Develop your knowledge: Te\n",
      "\n",
      "Sample: 1\n",
      "ctx: The TSA isn’t any American’s favorite agency\n",
      "targ: . They take naked pictures of you and still let about 95 percent of fake bombs and weapons through un\n",
      "low:  They take forever for sims to sell their medical equipment to ones</s>We are</s>This site\n",
      "preds: , but leastok ormo, oring, own it. as The the most, the un\n",
      "high:  but it can take some effort. Is your job</s>You can ask to hunt moonlight review\n",
      "\n",
      "Sample: 2\n",
      "ctx: KANSAS CITY, Mo. – Comp\n",
      "targ: leting his recovery from a broken foot was a big part of Roger Espinoza's offseason. But it's\n",
      "low:  his recovery by England and choosing Arsenal's new captain Wayne Rooney would help United form a.</s>\n",
      "preds: ership being a in the Internetiouscy of the-up ofusable, but the than the new\n",
      "high:  are a two-year-old Peachie Cape Celestine Young and Baby, who was born Friday,\n",
      "\n",
      "Sample: 3\n",
      "ctx: AMSTERDAM (Reuters) - An experimental\n",
      "targ:  Roche drug that seems to work particularly well against lung cancer in smokers may be a “game changer\n",
      "low:  drug that a fleases immediately, does not effervesce, for 5-15 minutes</s>St\n",
      "preds:  new has that theigual antibioticsinflammatory drugsivirals could be the the who in of the virus\n",
      "high:  firm said production of the physical measurements of oil production of dirty trapped in the production curve to thirst\n",
      "\n",
      "Sample: 4\n",
      "ctx: Story highlights Always Dreaming finishes eighth\\n\\nCloud Computing\n",
      "targ:  was rested, having not raced in the Kentucky Derby\\n\\n(CNN) Cloud Computing, ridden\n",
      "low:  rested by smoking a coffee, it was fed by shedding a potato, and starved\n",
      "preds:  by TES,Microsoft are What Future\\n\\n\\n\\nWe JohnWe known Thely\\n\\n The,emon\n",
      "high: z's stars convicted John John Jerome Jerome Kokomoon wasn't the be warned about gone with fun\n",
      "\n"
     ]
    }
   ],
   "source": [
    "ex = examples[-1]\n",
    "text_list = ex[\"examples\"]\n",
    "keys = [\"ctx\", \"targ\", \"low\", \"preds\", \"high\"]\n",
    "for i,text in enumerate(text_list):\n",
    "    print(\"Sample:\", i)\n",
    "    for k in keys:\n",
    "        print(k+\":\", text[k])\n",
    "    print()"
   ]
  },
  {
   "cell_type": "code",
   "execution_count": null,
   "id": "35445847-d279-4543-b076-d00b0c448869",
   "metadata": {},
   "outputs": [],
   "source": []
  },
  {
   "cell_type": "code",
   "execution_count": null,
   "id": "5d6e3f85-8dd4-4e1a-a31a-55f0db7e49d9",
   "metadata": {},
   "outputs": [],
   "source": []
  },
  {
   "cell_type": "code",
   "execution_count": null,
   "id": "f6acd31c-6b0e-4bea-8c71-c92f3b1e34f6",
   "metadata": {},
   "outputs": [],
   "source": []
  }
 ],
 "metadata": {
  "kernelspec": {
   "display_name": "Python 3 (ipykernel)",
   "language": "python",
   "name": "python3"
  },
  "language_info": {
   "codemirror_mode": {
    "name": "ipython",
    "version": 3
   },
   "file_extension": ".py",
   "mimetype": "text/x-python",
   "name": "python",
   "nbconvert_exporter": "python",
   "pygments_lexer": "ipython3",
   "version": "3.9.7"
  }
 },
 "nbformat": 4,
 "nbformat_minor": 5
}
